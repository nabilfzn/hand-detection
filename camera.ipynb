{
 "cells": [
  {
   "cell_type": "markdown",
   "id": "87464de7-606b-4754-9c6d-3cf9aafba977",
   "metadata": {},
   "source": []
  },
  {
   "cell_type": "code",
   "execution_count": 13,
   "id": "bff27de2-7bee-4506-a451-151dbae723af",
   "metadata": {},
   "outputs": [],
   "source": [
    "import mediapipe as mp\n",
    "import cv2"
   ]
  },
  {
   "cell_type": "code",
   "execution_count": 14,
   "id": "b374c74f-1a8f-414e-9d56-4bbe9be468f8",
   "metadata": {},
   "outputs": [],
   "source": [
    "# inisialiasai mediapipe\n",
    "mp_hands = mp.solutions.hands\n",
    "mp_drawing = mp.solutions.drawing_utils"
   ]
  },
  {
   "cell_type": "code",
   "execution_count": 15,
   "id": "7d01d3e4-59bc-434e-ae94-be46b2c4c6a9",
   "metadata": {},
   "outputs": [
    {
     "data": {
      "text/plain": [
       "True"
      ]
     },
     "execution_count": 15,
     "metadata": {},
     "output_type": "execute_result"
    }
   ],
   "source": [
    "cap = cv2.VideoCapture(0) #menampilkan webcam dengan kamera pertama atau ke-0 (kamera default)\n",
    "cap.set(cv2.CAP_PROP_FRAME_HEIGHT, 480)\n",
    "cap.set(cv2.CAP_PROP_FRAME_WIDTH, 720)"
   ]
  },
  {
   "cell_type": "code",
   "execution_count": 16,
   "id": "8fd4396d",
   "metadata": {},
   "outputs": [],
   "source": [
    "def jari_terbuka(landmarks):\n",
    "    ibu_jari = 1 if landmarks[4][0] > landmarks[3][0] else 0\n",
    "    telunjuk = 1 if landmarks[8][1] < landmarks[6][1] else 0\n",
    "    tengah   = 1 if landmarks[12][1] < landmarks[10][1] else 0\n",
    "    manis    = 1 if landmarks[16][1] < landmarks[14][1] else 0\n",
    "    kelingking = 1 if landmarks[20][1] < landmarks[18][1] else 0\n",
    "    return [ibu_jari, telunjuk, tengah, manis, kelingking]"
   ]
  },
  {
   "cell_type": "code",
   "execution_count": null,
   "id": "f882cd83-fc16-405e-b38b-f06c4e29772f",
   "metadata": {},
   "outputs": [],
   "source": [
    "# inisialisasi detektor dari mediapipe\n",
    "with mp_hands.Hands(\n",
    "    static_image_mode=False,\n",
    "    max_num_hands=2,\n",
    "    min_detection_confidence=0.5,\n",
    "    min_tracking_confidence=0.5\n",
    ") as hands :\n",
    "\n",
    "    while cap.isOpened():\n",
    "        ret, frame = cap.read()\n",
    "        if not ret:\n",
    "            print(\"gagal membaca frame dari webcam\")\n",
    "            break\n",
    "\n",
    "        frame = cv2.flip(frame, 1)\n",
    "\n",
    "        # ubah warna dari BGR (default opencv) ke RGB (mediapipe)\n",
    "        image = cv2.cvtColor(frame, cv2.COLOR_BGR2RGB)\n",
    "        image.flags.writeable = False # meningkatkan performa\n",
    "\n",
    "        # proses deteksi tangan\n",
    "        result = hands.process(image)\n",
    "\n",
    "        #kembali ke BGR untuk ditampilkan dengan opencv\n",
    "        image.flags.writeable = True\n",
    "        image = cv2.cvtColor(image, cv2.COLOR_RGB2BGR)\n",
    "\n",
    "\n",
    "        #gambar landmark jika terdeteksi\n",
    "        if result.multi_hand_landmarks:\n",
    "            for hand_landmarks in result.multi_hand_landmarks:\n",
    "                mp_drawing.draw_landmarks(\n",
    "                    image,\n",
    "                    hand_landmarks,\n",
    "                    mp_hands.HAND_CONNECTIONS\n",
    "                )\n",
    "\n",
    "                # Ambil koordinat setiap titik\n",
    "                landmarks = []\n",
    "                for lm in hand_landmarks.landmark:\n",
    "                    landmarks.append((lm.x, lm.y))\n",
    "\n",
    "                # Cek status jari\n",
    "                status_jari = jari_terbuka(landmarks)\n",
    "\n",
    "                # Tampilkan status di layar\n",
    "                if all(status_jari):\n",
    "                    cv2.putText(image, \"Tangan Terbuka\", (10, 50),\n",
    "                                cv2.FONT_HERSHEY_SIMPLEX, 1, (0, 255, 0), 2)\n",
    "                elif not any(status_jari):\n",
    "                    cv2.putText(image, \"Tangan Mengepal\", (10, 50),\n",
    "                                cv2.FONT_HERSHEY_SIMPLEX, 1, (0, 0, 255), 2)\n",
    "                else:\n",
    "                    cv2.putText(image, \"    Setengah Terbuka\", (10, 50),\n",
    "                                cv2.FONT_HERSHEY_SIMPLEX, 1, (255, 0, 0), 2)\n",
    "\n",
    "        #menampilkan webcam ke layar\n",
    "        cv2.imshow(\"testes\", image)\n",
    "\n",
    "        #tekan q untuk keluar\n",
    "        if cv2.waitKey(1) & 0xFF == ord('q'):\n",
    "            break\n",
    "\n",
    "\n",
    "#tuutup kameran dan jendela\n",
    "cap.release()\n",
    "cv2.destroyAllWindows()"
   ]
  },
  {
   "cell_type": "code",
   "execution_count": null,
   "id": "fc2c9613-28b0-421d-8679-e0f3d2afd38d",
   "metadata": {},
   "outputs": [],
   "source": []
  }
 ],
 "metadata": {
  "kernelspec": {
   "display_name": "Python 3.12 (env312)",
   "language": "python",
   "name": "env312"
  },
  "language_info": {
   "codemirror_mode": {
    "name": "ipython",
    "version": 3
   },
   "file_extension": ".py",
   "mimetype": "text/x-python",
   "name": "python",
   "nbconvert_exporter": "python",
   "pygments_lexer": "ipython3",
   "version": "3.12.9"
  }
 },
 "nbformat": 4,
 "nbformat_minor": 5
}
