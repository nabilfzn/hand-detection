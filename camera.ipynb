{
 "cells": [
  {
   "cell_type": "markdown",
   "id": "87464de7-606b-4754-9c6d-3cf9aafba977",
   "metadata": {},
   "source": []
  },
  {
   "cell_type": "code",
   "execution_count": 1,
   "id": "bff27de2-7bee-4506-a451-151dbae723af",
   "metadata": {},
   "outputs": [],
   "source": [
    "import mediapipe as mp\n",
    "import cv2"
   ]
  },
  {
   "cell_type": "code",
   "execution_count": 2,
   "id": "b374c74f-1a8f-414e-9d56-4bbe9be468f8",
   "metadata": {},
   "outputs": [],
   "source": [
    "# inisialiasai mediapipe\n",
    "mp_hands = mp.solutions.hands\n",
    "mp_drawing = mp.solutions.drawing_utils"
   ]
  },
  {
   "cell_type": "code",
   "execution_count": 3,
   "id": "7d01d3e4-59bc-434e-ae94-be46b2c4c6a9",
   "metadata": {},
   "outputs": [],
   "source": [
    "cap = cv2.VideoCapture(0) #menampilkan webcam dengan kamera pertama atau ke-0 (kamera default)"
   ]
  },
  {
   "cell_type": "code",
   "execution_count": null,
   "id": "f882cd83-fc16-405e-b38b-f06c4e29772f",
   "metadata": {},
   "outputs": [],
   "source": [
    "# inisialisasi detektor dari mediapipe\n",
    "with mp_hands.Hands(\n",
    "    static_image_mode=False,\n",
    "    max_num_hands=2,\n",
    "    min_detection_confidence=0.5,\n",
    "    min_tracking_confidence=0.5\n",
    ") as hands :\n",
    "\n",
    "    while cap.isOpened():\n",
    "        ret, frame = cap.read()\n",
    "        if not ret:\n",
    "            print(\"gagal membaca frame dari webcam\")\n",
    "            break\n",
    "\n",
    "    # ubah warna dari BGR (default opencv) ke RGB (mediapipe)\n",
    "    image = cv2.cvtColor(frame, cv2.COLOR_BAYER_BG2RGB)\n",
    "    image.flags.writable = False # meningkatkan performa\n",
    "\n",
    "    # proses deteksi tangan\n",
    "    result = hands.process(image)\n",
    "\n",
    "    #kembali ke BGR untuk ditampilkan dengan opencv\n",
    "    image.flags.writable = True\n",
    "    image = cv2.cvtColor(image, cv2.COLOR_BAYER_RG2BGR)\n",
    "\n",
    "\n",
    "    #gambar landmark jika terdeteksi\n",
    "    if results.multi_hand_landmarks:\n",
    "        for hand_landmarks in results.multi_hand_landmarks:\n",
    "            mp_drawing.draw_landmarks(\n",
    "                image,\n",
    "                hand_landmarks,\n",
    "                mp_hands.HAND_CONNECTIONS\n",
    "            )"
   ]
  },
  {
   "cell_type": "code",
   "execution_count": null,
   "id": "36f5487e-6eb3-47cd-9c72-541e7b50f98f",
   "metadata": {},
   "outputs": [],
   "source": [
    "#menampilkan webcam ke layar\n",
    "cv2.imshow(\"testes\", image)\n",
    "\n",
    "#tekan q untuk keluar\n",
    "if cv2.waitkey(1) & 0xFF == ord('q'):\n",
    "    break\n",
    "\n",
    "\n",
    "#tuutup kameran dan jendela\n",
    "cap.release()\n",
    "cv2.destroyAllWindows()"
   ]
  },
  {
   "cell_type": "code",
   "execution_count": null,
   "id": "fc2c9613-28b0-421d-8679-e0f3d2afd38d",
   "metadata": {},
   "outputs": [],
   "source": []
  }
 ],
 "metadata": {
  "kernelspec": {
   "display_name": "Python 3.12",
   "language": "python",
   "name": "python312"
  },
  "language_info": {
   "codemirror_mode": {
    "name": "ipython",
    "version": 3
   },
   "file_extension": ".py",
   "mimetype": "text/x-python",
   "name": "python",
   "nbconvert_exporter": "python",
   "pygments_lexer": "ipython3",
   "version": "3.12.9"
  }
 },
 "nbformat": 4,
 "nbformat_minor": 5
}
